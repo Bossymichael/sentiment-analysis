{
  "nbformat": 4,
  "nbformat_minor": 0,
  "metadata": {
    "colab": {
      "provenance": [],
      "authorship_tag": "ABX9TyN9Q4bvCvqbI9ulrJla/a6q"
    },
    "kernelspec": {
      "name": "python3",
      "display_name": "Python 3"
    },
    "language_info": {
      "name": "python"
    }
  },
  "cells": [
    {
      "cell_type": "markdown",
      "source": [],
      "metadata": {
        "id": "Txg4ZA87wrsf"
      }
    },
    {
      "cell_type": "markdown",
      "metadata": {
        "id": "cdP9a4Qj96IL"
      },
      "source": [
        "## 1. **Business Understanding**\n",
        "\n",
        "### Overview\n",
        "\n",
        "SentimentFlow aims to address a real-world problem related to understanding public sentiment towards Apple and Google products on Twitter. The stakeholders include companies, marketing teams, and decision-makers who want to gauge public opinion and make informed strategic decisions based on social media sentiment.\n",
        "\n",
        "### Problem Statement\n",
        "\n",
        "The problem is to accurately classify the sentiment of tweets related to Apple and Google products. We want to determine whether a tweet expresses a positive, negative, or neutral sentiment. This classification can help companies understand customer satisfaction, identify potential issues, and tailor their responses accordingly.\n",
        "\n",
        "### Objectives\n",
        "\n",
        "Main Objective\n",
        "\n",
        "> To develop a NLP (Natural Language Processing) multiclass classification model for sentiment analysis, aim to achieve a recall score of 80% and an accuracy of 80%. The model should categorize sentiments into three classes: Positive, Negative, and Neutral.\n",
        "\n",
        "Specific Objectives\n",
        "\n",
        "* To idenitfy the most common words used in the dataset using Word cloud.\n",
        "\n",
        "* To confirm the most common words that are positively and negatively tagged.\n",
        "\n",
        "* To recognize the products that have been opined by the users.\n",
        "\n",
        "* To spot the distribution of the sentiments.\n",
        "\n",
        "### Conclusion\n",
        "\n",
        "Our NLP model will contribute valuable insights to the real-world problem of understanding Twitter sentiment about Apple and Google products. Stakeholders can leverage this information to enhance their decision-making processes and improve overall customer satisfaction."
      ]
    },
    {
      "cell_type": "code",
      "execution_count": null,
      "metadata": {
        "id": "xQQIS-nTwp63"
      },
      "outputs": [],
      "source": []
    }
  ]
}